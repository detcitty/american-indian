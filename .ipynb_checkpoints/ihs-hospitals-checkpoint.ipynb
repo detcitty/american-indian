{
 "cells": [
  {
   "cell_type": "markdown",
   "metadata": {},
   "source": [
    "# IHS Hospitals in the US"
   ]
  },
  {
   "cell_type": "code",
   "execution_count": 1,
   "metadata": {
    "collapsed": true
   },
   "outputs": [],
   "source": [
    "file1 = open('IHS_Health_Facilities.csv', 'r+')"
   ]
  },
  {
   "cell_type": "markdown",
   "metadata": {},
   "source": [
    "Import the necessary Python packages"
   ]
  },
  {
   "cell_type": "code",
   "execution_count": 3,
   "metadata": {
    "collapsed": false
   },
   "outputs": [
    {
     "name": "stderr",
     "output_type": "stream",
     "text": [
      "/Library/Frameworks/Python.framework/Versions/2.7/lib/python2.7/site-packages/matplotlib/font_manager.py:273: UserWarning: Matplotlib is building the font cache using fc-list. This may take a moment.\n",
      "  warnings.warn('Matplotlib is building the font cache using fc-list. This may take a moment.')\n"
     ]
    }
   ],
   "source": [
    "import pandas as pd\n",
    "import numpy as np\n",
    "import matplotlib.pyplot as plt"
   ]
  },
  {
   "cell_type": "code",
   "execution_count": 4,
   "metadata": {
    "collapsed": true
   },
   "outputs": [],
   "source": [
    "file2 = pd.read_csv('IHS_Health_Facilities.csv')"
   ]
  },
  {
   "cell_type": "markdown",
   "metadata": {},
   "source": [
    "Find the unique hospital affiliations"
   ]
  },
  {
   "cell_type": "code",
   "execution_count": 8,
   "metadata": {
    "collapsed": false
   },
   "outputs": [
    {
     "name": "stdout",
     "output_type": "stream",
     "text": [
      "['IHS' 'Title 1 (Tribal)' 'Title 5 (638)' 'Urban' 'NON-IHS' 'Private NP'\n",
      " 'Contract Inpatient' nan 'Tribal']\n"
     ]
    }
   ],
   "source": [
    "affiliation = file2['Affiliation']\n",
    "unique = affiliation.unique()\n",
    "print affiliation.unique()\n"
   ]
  },
  {
   "cell_type": "code",
   "execution_count": 10,
   "metadata": {
    "collapsed": false
   },
   "outputs": [
    {
     "name": "stdout",
     "output_type": "stream",
     "text": [
      "['IHS', 'IHS', 'IHS', 'IHS', 'IHS', 'IHS', 'IHS', 'Title 1 (Tribal)', 'IHS', 'Title 1 (Tribal)', 'IHS', 'IHS', 'Title 1 (Tribal)', 'IHS', 'IHS', 'Title 5 (638)', 'IHS', 'IHS', 'IHS', 'IHS', 'IHS', 'IHS', 'IHS', 'IHS', 'IHS', 'IHS', 'IHS', 'Title 1 (Tribal)', 'IHS', 'IHS', 'IHS', 'IHS', 'IHS', 'Title 1 (Tribal)', 'Title 5 (638)', 'Title 1 (Tribal)', 'IHS', 'Title 1 (Tribal)', 'Title 1 (Tribal)', 'Urban', 'IHS', 'IHS', 'IHS', 'IHS', 'IHS', 'NON-IHS', 'NON-IHS', 'NON-IHS', 'IHS', 'Title 5 (638)', 'IHS', 'IHS', 'Title 5 (638)', 'Title 5 (638)', 'Title 5 (638)', 'Title 5 (638)', 'Title 5 (638)', 'Title 5 (638)', 'NON-IHS', 'Title 5 (638)', 'Urban', 'NON-IHS', 'NON-IHS', 'NON-IHS', 'NON-IHS', 'NON-IHS', 'NON-IHS', 'NON-IHS', 'NON-IHS', 'NON-IHS', 'Title 5 (638)', 'Title 5 (638)', 'Title 5 (638)', 'Title 5 (638)', 'Title 5 (638)', 'Title 5 (638)', 'Title 5 (638)', 'Title 5 (638)', 'Title 5 (638)', 'Title 5 (638)', 'Title 5 (638)', 'Title 5 (638)', 'IHS', 'Title 1 (Tribal)', 'Title 1 (Tribal)', 'IHS', 'Title 1 (Tribal)', 'IHS', 'Title 1 (Tribal)', 'Title 1 (Tribal)', 'Title 1 (Tribal)', 'Title 1 (Tribal)', 'Title 1 (Tribal)', 'Title 1 (Tribal)', 'Title 5 (638)', 'Title 5 (638)', 'Title 1 (Tribal)', 'Title 1 (Tribal)', 'Title 1 (Tribal)', 'Title 1 (Tribal)', 'Title 1 (Tribal)', 'Title 1 (Tribal)', 'Title 1 (Tribal)', 'Title 1 (Tribal)', 'Title 1 (Tribal)', 'Title 1 (Tribal)', 'Title 5 (638)', 'Title 5 (638)', 'Title 5 (638)', 'NON-IHS', 'NON-IHS', 'NON-IHS', 'NON-IHS', 'NON-IHS', 'NON-IHS', 'NON-IHS', 'NON-IHS', 'NON-IHS', 'NON-IHS', 'NON-IHS', 'IHS', 'NON-IHS', 'NON-IHS', 'Urban', 'Urban', 'Urban', 'Urban', 'Urban', 'Title 5 (638)', 'IHS', 'IHS', 'IHS', 'IHS', 'Title 5 (638)', 'Title 5 (638)', 'IHS', 'Private NP', 'Title 5 (638)', 'Title 5 (638)', 'Title 5 (638)', 'Urban', 'Title 5 (638)', 'IHS', 'IHS', 'IHS', 'Title 5 (638)', 'Title 5 (638)', 'Title 1 (Tribal)', 'NON-IHS', 'NON-IHS', 'NON-IHS', 'NON-IHS', 'NON-IHS', 'NON-IHS', 'NON-IHS', 'NON-IHS', 'NON-IHS', 'NON-IHS', 'NON-IHS', 'NON-IHS', 'Title 1 (Tribal)', 'Title 1 (Tribal)', 'Title 1 (Tribal)', 'Title 5 (638)', 'Title 5 (638)', 'Title 5 (638)', 'Title 5 (638)', 'Title 5 (638)', 'Title 1 (Tribal)', 'Urban', 'Contract Inpatient', 'Contract Inpatient', 'Contract Inpatient', 'Title 1 (Tribal)', 'Title 1 (Tribal)', 'Title 1 (Tribal)', 'Title 5 (638)', 'Title 5 (638)', 'Title 5 (638)', 'Title 5 (638)', 'Urban', 'Title 5 (638)', 'Title 5 (638)', 'Title 5 (638)', 'Title 5 (638)', 'Title 5 (638)', 'Title 5 (638)', 'Title 5 (638)', 'Title 5 (638)', 'Title 5 (638)', 'Title 5 (638)', 'IHS', 'IHS', 'IHS', 'IHS', 'IHS', 'IHS', 'Title 5 (638)', 'IHS', 'IHS', 'Title 5 (638)', 'Title 5 (638)', 'Title 5 (638)', 'Title 5 (638)', 'Title 5 (638)', 'Title 5 (638)', 'Title 5 (638)', 'Title 5 (638)', 'Title 5 (638)', 'Title 5 (638)', 'Title 5 (638)', 'Title 5 (638)', 'Title 5 (638)', 'Title 5 (638)', 'Title 1 (Tribal)', 'Title 5 (638)', 'Title 1 (Tribal)', 'Urban', 'Urban', nan, 'IHS', 'IHS', 'IHS', 'IHS', 'IHS', 'IHS', 'NON-IHS', 'NON-IHS', 'NON-IHS', 'NON-IHS', 'Title 5 (638)', 'Title 5 (638)', 'Title 5 (638)', 'Title 1 (Tribal)', 'Title 1 (Tribal)', 'Title 1 (Tribal)', 'Title 1 (Tribal)', 'Title 1 (Tribal)', 'Title 1 (Tribal)', 'Title 1 (Tribal)', 'Title 1 (Tribal)', 'Title 1 (Tribal)', 'Title 1 (Tribal)', 'Title 1 (Tribal)', 'Title 1 (Tribal)', 'Title 5 (638)', 'IHS', 'Urban', 'IHS', 'IHS', 'Title 5 (638)', nan, 'Title 1 (Tribal)', 'Title 5 (638)', 'IHS', 'Title 5 (638)', 'Title 5 (638)', 'Title 5 (638)', 'Title 5 (638)', 'Title 5 (638)', 'Title 5 (638)', 'Title 5 (638)', 'Title 5 (638)', 'Title 5 (638)', 'Title 5 (638)', 'Title 1 (Tribal)', 'Title 5 (638)', 'Title 5 (638)', 'Title 5 (638)', 'Title 5 (638)', 'IHS', 'IHS', 'Title 5 (638)', 'Title 5 (638)', 'Title 5 (638)', 'Title 5 (638)', 'Title 5 (638)', 'Title 1 (Tribal)', 'Title 5 (638)', 'Title 5 (638)', 'Title 5 (638)', 'Title 5 (638)', 'Title 5 (638)', 'Title 5 (638)', 'Title 5 (638)', 'Title 5 (638)', 'Title 5 (638)', 'Title 5 (638)', 'Title 5 (638)', 'Title 5 (638)', 'Title 5 (638)', 'Title 5 (638)', 'Title 5 (638)', 'Title 5 (638)', 'Title 5 (638)', 'Title 1 (Tribal)', 'IHS', 'IHS', 'IHS', 'IHS', 'IHS', 'Title 1 (Tribal)', 'Title 1 (Tribal)', 'IHS', 'IHS', 'IHS', 'IHS', 'IHS', 'IHS', 'IHS', 'IHS', 'IHS', 'Title 5 (638)', 'Title 5 (638)', 'Title 1 (Tribal)', 'Title 1 (Tribal)', 'Urban', 'Urban', 'IHS', 'IHS', 'IHS', 'Title 1 (Tribal)', 'Urban', 'NON-IHS', 'IHS', 'Title 5 (638)', 'IHS', 'Title 5 (638)', 'IHS', 'Title 1 (Tribal)', 'Title 1 (Tribal)', 'Title 5 (638)', 'Title 5 (638)', 'Title 1 (Tribal)', 'Title 5 (638)', 'Title 5 (638)', 'Title 1 (Tribal)', 'IHS', 'IHS', 'Title 1 (Tribal)', 'Title 1 (Tribal)', 'Title 5 (638)', 'Title 5 (638)', 'Title 5 (638)', 'Title 5 (638)', 'Title 1 (Tribal)', 'Title 5 (638)', 'Title 5 (638)', 'Title 5 (638)', 'Title 5 (638)', 'Title 5 (638)', 'Title 5 (638)', 'Title 5 (638)', 'Title 5 (638)', 'Title 5 (638)', 'Contract Inpatient', 'Contract Inpatient', 'IHS', 'Title 5 (638)', 'Title 1 (Tribal)', 'Title 5 (638)', 'Title 5 (638)', 'Title 5 (638)', 'Title 5 (638)', 'Title 5 (638)', 'Title 5 (638)', 'Title 5 (638)', 'Title 5 (638)', 'Title 5 (638)', 'Title 5 (638)', 'Title 5 (638)', 'Title 5 (638)', 'Title 5 (638)', 'Title 1 (Tribal)', 'Title 5 (638)', 'Title 5 (638)', 'Title 5 (638)', 'Title 5 (638)', 'Title 1 (Tribal)', 'Title 5 (638)', 'Title 5 (638)', 'Title 5 (638)', 'Title 5 (638)', 'Title 1 (Tribal)', 'Title 5 (638)', 'Title 5 (638)', 'Title 1 (Tribal)', 'Title 5 (638)', 'Title 5 (638)', 'Title 5 (638)', 'NON-IHS', 'NON-IHS', 'NON-IHS', 'NON-IHS', 'NON-IHS', 'Title 5 (638)', 'Title 5 (638)', 'Title 5 (638)', 'Title 5 (638)', 'Title 5 (638)', 'Title 5 (638)', 'Title 5 (638)', 'Title 5 (638)', 'Title 1 (Tribal)', 'Title 5 (638)', 'Title 5 (638)', 'Title 5 (638)', 'Title 5 (638)', 'Title 5 (638)', 'Title 5 (638)', 'Title 5 (638)', 'Title 5 (638)', 'Title 5 (638)', 'Title 5 (638)', 'Title 5 (638)', 'Title 5 (638)', 'Title 5 (638)', 'Title 5 (638)', 'Title 5 (638)', 'Title 5 (638)', 'Title 5 (638)', 'Title 5 (638)', 'Title 1 (Tribal)', 'Title 1 (Tribal)', 'Title 1 (Tribal)', 'IHS', 'Title 1 (Tribal)', 'IHS', 'Title 1 (Tribal)', 'Urban', 'Title 1 (Tribal)', 'Urban', 'Title 1 (Tribal)', 'IHS', 'Title 5 (638)', 'Title 5 (638)', 'Title 5 (638)', 'Title 5 (638)', 'Title 5 (638)', 'Title 5 (638)', 'Title 5 (638)', 'Title 5 (638)', 'Title 5 (638)', 'Title 5 (638)', 'Title 5 (638)', 'Title 5 (638)', 'Title 1 (Tribal)', 'Title 5 (638)', 'Title 5 (638)', 'Title 5 (638)', 'Title 5 (638)', 'Title 5 (638)', 'Title 5 (638)', 'Title 5 (638)', 'Title 5 (638)', 'Title 5 (638)', 'Title 5 (638)', 'Title 5 (638)', 'Title 5 (638)', 'Title 5 (638)', 'Title 5 (638)', 'Title 5 (638)', 'Title 5 (638)', 'Title 5 (638)', 'Title 5 (638)', 'Title 5 (638)', 'Title 5 (638)', 'Title 5 (638)', 'Title 1 (Tribal)', 'Title 5 (638)', 'Urban', 'IHS', 'IHS', 'Title 1 (Tribal)', 'IHS', 'Title 1 (Tribal)', 'Title 5 (638)', 'IHS', 'Title 1 (Tribal)', 'Urban', 'Title 1 (Tribal)', 'Urban', 'Title 5 (638)', 'Title 1 (Tribal)', 'Urban', 'Title 5 (638)', 'Title 5 (638)', 'Title 5 (638)', 'Title 5 (638)', 'Title 5 (638)', 'Title 5 (638)', 'Title 5 (638)', 'Title 5 (638)', 'Title 5 (638)', 'Title 5 (638)', 'Title 5 (638)', 'Title 5 (638)', 'Title 5 (638)', 'Title 5 (638)', 'Title 5 (638)', 'Title 5 (638)', 'Title 5 (638)', 'Title 5 (638)', 'Title 5 (638)', 'Title 5 (638)', 'Title 5 (638)', 'Title 5 (638)', 'Title 5 (638)', 'Title 5 (638)', 'Title 5 (638)', 'Title 5 (638)', 'Title 5 (638)', 'Title 5 (638)', 'Title 5 (638)', 'Title 5 (638)', 'Title 5 (638)', 'Title 5 (638)', 'Title 5 (638)', 'Title 5 (638)', 'Title 5 (638)', 'Title 5 (638)', 'Title 5 (638)', 'Title 5 (638)', 'Title 5 (638)', 'Title 5 (638)', 'Title 5 (638)', 'Title 5 (638)', 'Title 5 (638)', 'Title 5 (638)', 'Title 5 (638)', 'Title 5 (638)', 'Title 5 (638)', 'Title 5 (638)', 'Title 5 (638)', 'Title 5 (638)', 'Title 5 (638)', 'Title 5 (638)', 'Title 5 (638)', 'Title 5 (638)', 'Title 5 (638)', 'Title 5 (638)', 'Title 5 (638)', 'Title 1 (Tribal)', 'Title 5 (638)', 'Title 5 (638)', 'NON-IHS', 'Title 5 (638)', 'Title 5 (638)', 'Title 5 (638)', 'Title 5 (638)', 'Title 5 (638)', 'Title 5 (638)', 'Title 5 (638)', 'Title 5 (638)', 'Title 5 (638)', 'Title 5 (638)', 'Title 5 (638)', 'Title 5 (638)', 'Title 5 (638)', 'Title 5 (638)', 'Title 5 (638)', 'Title 5 (638)', 'Title 5 (638)', 'Title 5 (638)', 'Title 5 (638)', 'Title 5 (638)', 'Title 5 (638)', 'Title 5 (638)', 'Title 5 (638)', 'Title 5 (638)', 'Title 5 (638)', 'Title 5 (638)', 'Title 5 (638)', 'Title 5 (638)', 'Title 5 (638)', 'Title 5 (638)', 'Title 5 (638)', 'Title 5 (638)', 'Title 5 (638)', 'Title 5 (638)', 'Title 5 (638)', 'Title 5 (638)', 'Title 5 (638)', 'Title 5 (638)', 'Title 5 (638)', 'Title 5 (638)', 'Title 5 (638)', 'Title 5 (638)', 'Title 5 (638)', 'Title 5 (638)', 'Title 5 (638)', 'Title 5 (638)', 'Title 5 (638)', 'Title 5 (638)', 'Title 5 (638)', 'Title 5 (638)', 'Title 1 (Tribal)', 'Title 5 (638)', 'IHS', 'Title 5 (638)', 'Urban', 'IHS', 'IHS', 'Title 1 (Tribal)', 'Title 1 (Tribal)', 'IHS', 'Title 1 (Tribal)', 'Title 1 (Tribal)', 'Title 1 (Tribal)', 'Urban', 'Title 1 (Tribal)', 'Title 1 (Tribal)', 'Title 5 (638)', 'Title 5 (638)', 'IHS', 'Title 1 (Tribal)', 'Title 1 (Tribal)', 'Title 1 (Tribal)', 'Title 1 (Tribal)', 'Title 1 (Tribal)', 'Title 1 (Tribal)', 'Title 1 (Tribal)', 'Title 1 (Tribal)', 'IHS', 'Urban', 'Title 1 (Tribal)', 'IHS', 'IHS', 'Title 1 (Tribal)', 'IHS', 'IHS', 'Title 5 (638)', 'Title 5 (638)', 'Title 1 (Tribal)', 'NON-IHS', 'IHS', 'IHS', 'IHS', 'Title 1 (Tribal)', 'Title 5 (638)', 'Title 5 (638)', 'Title 5 (638)', 'Title 5 (638)', 'Title 5 (638)', 'Title 5 (638)', 'IHS', 'Title 5 (638)', 'Title 5 (638)', 'Title 5 (638)', 'Title 1 (Tribal)', 'Title 1 (Tribal)', 'IHS', 'Title 1 (Tribal)', 'Title 1 (Tribal)', 'Title 1 (Tribal)', 'Title 1 (Tribal)', 'Title 1 (Tribal)', 'IHS', 'Title 1 (Tribal)', 'Title 1 (Tribal)', 'IHS', 'Title 1 (Tribal)', 'Title 1 (Tribal)', 'Title 1 (Tribal)', 'Title 5 (638)', 'Title 5 (638)', 'Title 1 (Tribal)', 'Title 5 (638)', 'IHS', 'Title 5 (638)', 'Title 1 (Tribal)', 'Title 5 (638)', 'Title 5 (638)', 'Title 1 (Tribal)', 'Title 1 (Tribal)', 'Title 1 (Tribal)', 'Title 5 (638)', 'Title 1 (Tribal)', 'Title 5 (638)', 'Title 1 (Tribal)', 'Title 1 (Tribal)', 'IHS', 'IHS', 'IHS', 'Title 1 (Tribal)', 'Title 1 (Tribal)', 'IHS', 'IHS', 'Title 5 (638)', 'Title 5 (638)', 'Title 1 (Tribal)', 'IHS', 'Title 1 (Tribal)', 'Title 1 (Tribal)', 'Title 1 (Tribal)', 'IHS', 'IHS', 'Title 1 (Tribal)', 'Title 1 (Tribal)', 'Title 1 (Tribal)', 'IHS', 'Title 5 (638)', 'Title 5 (638)', 'Title 1 (Tribal)', 'Title 1 (Tribal)', 'Title 1 (Tribal)', 'Title 5 (638)', 'Title 5 (638)', 'Title 5 (638)', 'IHS', 'Title 1 (Tribal)', 'Title 5 (638)', 'Title 1 (Tribal)', 'Title 1 (Tribal)', 'Title 1 (Tribal)', 'Title 1 (Tribal)', 'Title 5 (638)', 'Title 5 (638)', 'Title 1 (Tribal)', 'Title 1 (Tribal)', 'Title 1 (Tribal)', 'Title 1 (Tribal)', 'Title 1 (Tribal)', 'Title 1 (Tribal)', 'IHS', 'NON-IHS', 'NON-IHS', 'NON-IHS', 'NON-IHS', 'NON-IHS', 'NON-IHS', 'NON-IHS', 'NON-IHS', 'NON-IHS', 'NON-IHS', 'NON-IHS', 'NON-IHS', 'NON-IHS', 'NON-IHS', 'NON-IHS', 'NON-IHS', 'NON-IHS', 'NON-IHS', 'NON-IHS', 'NON-IHS', 'NON-IHS', 'NON-IHS', 'NON-IHS', 'NON-IHS', 'IHS', 'Urban', 'NON-IHS', 'NON-IHS', 'NON-IHS', 'NON-IHS', 'IHS', 'IHS', 'IHS', 'IHS', 'IHS', 'IHS', 'IHS', 'IHS', 'IHS', 'IHS', 'Title 1 (Tribal)', 'IHS', 'Title 1 (Tribal)', 'Urban', 'Urban', 'Title 5 (638)', 'Title 1 (Tribal)', 'IHS', 'Title 1 (Tribal)', 'Title 5 (638)', 'IHS', 'Title 5 (638)', 'IHS', nan, 'Title 5 (638)', 'Urban', 'Urban', 'IHS', 'IHS', 'IHS', 'Title 5 (638)', 'IHS', 'IHS', 'Urban', 'Urban', 'Urban', 'Urban', 'Urban', 'Urban', 'Tribal', 'Tribal', 'Title 5 (638)', 'Title 5 (638)', 'Title 5 (638)', nan, 'Urban', 'IHS', 'IHS', 'Title 5 (638)', 'Title 5 (638)', 'Title 1 (Tribal)', 'Title 5 (638)', 'Title 1 (Tribal)', 'Title 1 (Tribal)', 'IHS', 'Urban', 'Urban', 'Title 5 (638)', 'Title 5 (638)', 'Title 1 (Tribal)', 'Title 5 (638)', 'Title 5 (638)', 'Title 5 (638)', 'IHS', 'Title 1 (Tribal)']\n"
     ]
    }
   ],
   "source": [
    "types_of_hosptials = list(unique)\n",
    "print types_of_hosptials"
   ]
  },
  {
   "cell_type": "code",
   "execution_count": null,
   "metadata": {
    "collapsed": true
   },
   "outputs": [],
   "source": []
  }
 ],
 "metadata": {
  "kernelspec": {
   "display_name": "Python 2",
   "language": "python",
   "name": "python2"
  },
  "language_info": {
   "codemirror_mode": {
    "name": "ipython",
    "version": 2
   },
   "file_extension": ".py",
   "mimetype": "text/x-python",
   "name": "python",
   "nbconvert_exporter": "python",
   "pygments_lexer": "ipython2",
   "version": "2.7.11"
  }
 },
 "nbformat": 4,
 "nbformat_minor": 0
}
