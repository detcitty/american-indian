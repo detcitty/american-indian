{
 "cells": [
  {
   "cell_type": "markdown",
   "metadata": {},
   "source": [
    "# IHS Hospitals in the US"
   ]
  },
  {
   "cell_type": "code",
   "execution_count": 15,
   "metadata": {
    "collapsed": true
   },
   "outputs": [],
   "source": [
    "file1 = open('IHS_Health_Facilities.csv', 'r+')"
   ]
  },
  {
   "cell_type": "markdown",
   "metadata": {},
   "source": [
    "Import the necessary Python packages"
   ]
  },
  {
   "cell_type": "code",
   "execution_count": 23,
   "metadata": {
    "collapsed": false
   },
   "outputs": [],
   "source": [
    "import pandas as pd\n",
    "import numpy as np\n",
    "import us\n",
    "import matplotlib.pyplot as plt"
   ]
  },
  {
   "cell_type": "code",
   "execution_count": 17,
   "metadata": {
    "collapsed": true
   },
   "outputs": [],
   "source": [
    "ihs_info = pd.read_csv('IHS_Health_Facilities.csv')"
   ]
  },
  {
   "cell_type": "code",
   "execution_count": 18,
   "metadata": {
    "collapsed": false
   },
   "outputs": [
    {
     "name": "stdout",
     "output_type": "stream",
     "text": [
      "['Affiliation', 'Facility Name', 'Address', 'City', 'State', 'Zip Code', 'Phone', 'Facility Type', 'Behavioral Health', 'Dental', 'Pharmacy', 'Website']\n"
     ]
    }
   ],
   "source": [
    "column_names = list(ihs_info.columns.values)\n",
    "print column_names\n"
   ]
  },
  {
   "cell_type": "markdown",
   "metadata": {},
   "source": [
    "Find the unique hospital affiliations"
   ]
  },
  {
   "cell_type": "code",
   "execution_count": 19,
   "metadata": {
    "collapsed": false
   },
   "outputs": [
    {
     "name": "stdout",
     "output_type": "stream",
     "text": [
      "['IHS' 'Title 1 (Tribal)' 'Title 5 (638)' 'Urban' 'NON-IHS' 'Private NP'\n",
      " 'Contract Inpatient' nan 'Tribal']\n"
     ]
    }
   ],
   "source": [
    "affiliation = ihs_info['Affiliation']\n",
    "unique = affiliation.unique()\n",
    "print affiliation.unique()\n"
   ]
  },
  {
   "cell_type": "code",
   "execution_count": 20,
   "metadata": {
    "collapsed": false
   },
   "outputs": [
    {
     "name": "stdout",
     "output_type": "stream",
     "text": [
      "['IHS', 'Title 1 (Tribal)', 'Title 5 (638)', 'Urban', 'NON-IHS', 'Private NP', 'Contract Inpatient', nan, 'Tribal']\n"
     ]
    }
   ],
   "source": [
    "types_of_hosptials = list(unique)\n",
    "print types_of_hosptials"
   ]
  },
  {
   "cell_type": "code",
   "execution_count": 21,
   "metadata": {
    "collapsed": false
   },
   "outputs": [
    {
     "name": "stdout",
     "output_type": "stream",
     "text": [
      "['SD' 'ND' 'IA' 'NE' 'NM' 'CO' 'TX' 'MN' 'MI' 'MT' 'WI' 'OK' 'AZ' 'CA' 'NV'\n",
      " 'UT' 'WA' 'ID' 'KS' 'WY' 'NY' 'ME' 'MA' 'NC' 'MS' 'LA' 'AL' 'FL' 'CT' 'AK'\n",
      " 'OR' 'SC' 'RI' 'IL' 'MD']\n"
     ]
    }
   ],
   "source": [
    "states = ihs_info['State'].unique()\n",
    "print states"
   ]
  },
  {
   "cell_type": "code",
   "execution_count": 27,
   "metadata": {
    "collapsed": false
   },
   "outputs": [
    {
     "name": "stdout",
     "output_type": "stream",
     "text": [
      "South Dakota\n",
      "North Dakota\n",
      "Iowa\n",
      "Nebraska\n",
      "New Mexico\n",
      "Colorado\n",
      "Texas\n",
      "Minnesota\n",
      "Michigan\n",
      "Montana\n",
      "Wisconsin\n",
      "Oklahoma\n",
      "Arizona\n",
      "California\n",
      "Nevada\n",
      "Utah\n",
      "Washington\n",
      "Idaho\n",
      "Kansas\n",
      "Wyoming\n",
      "New York\n",
      "Maine\n",
      "Massachusetts\n",
      "North Carolina\n",
      "Mississippi\n",
      "Louisiana\n",
      "Alabama\n",
      "Florida\n",
      "Connecticut\n",
      "Alaska\n",
      "Oregon\n",
      "South Carolina\n",
      "Rhode Island\n",
      "Illinois\n",
      "Maryland\n"
     ]
    }
   ],
   "source": [
    "for i, element in enumerate(states):\n",
    "    name = us.states.lookup(element)\n",
    "    print name\n",
    "    \n"
   ]
  },
  {
   "cell_type": "code",
   "execution_count": 31,
   "metadata": {
    "collapsed": false
   },
   "outputs": [
    {
     "name": "stdout",
     "output_type": "stream",
     "text": [
      "[<State:Alabama>, <State:Alaska>, <State:Arizona>, <State:Arkansas>, <State:California>, <State:Colorado>, <State:Connecticut>, <State:Delaware>, <State:District of Columbia>, <State:Florida>, <State:Georgia>, <State:Hawaii>, <State:Idaho>, <State:Illinois>, <State:Indiana>, <State:Iowa>, <State:Kansas>, <State:Kentucky>, <State:Louisiana>, <State:Maine>, <State:Maryland>, <State:Massachusetts>, <State:Michigan>, <State:Minnesota>, <State:Mississippi>, <State:Missouri>, <State:Montana>, <State:Nebraska>, <State:Nevada>, <State:New Hampshire>, <State:New Jersey>, <State:New Mexico>, <State:New York>, <State:North Carolina>, <State:North Dakota>, <State:Ohio>, <State:Oklahoma>, <State:Oregon>, <State:Pennsylvania>, <State:Rhode Island>, <State:South Carolina>, <State:South Dakota>, <State:Tennessee>, <State:Texas>, <State:Utah>, <State:Vermont>, <State:Virginia>, <State:Washington>, <State:West Virginia>, <State:Wisconsin>, <State:Wyoming>]\n"
     ]
    }
   ],
   "source": [
    "fifty_states = list(us.states.STATES)\n",
    "\n",
    "print type(fi)"
   ]
  },
  {
   "cell_type": "code",
   "execution_count": null,
   "metadata": {
    "collapsed": true
   },
   "outputs": [],
   "source": []
  }
 ],
 "metadata": {
  "kernelspec": {
   "display_name": "Python 2",
   "language": "python",
   "name": "python2"
  },
  "language_info": {
   "codemirror_mode": {
    "name": "ipython",
    "version": 2
   },
   "file_extension": ".py",
   "mimetype": "text/x-python",
   "name": "python",
   "nbconvert_exporter": "python",
   "pygments_lexer": "ipython2",
   "version": "2.7.11"
  }
 },
 "nbformat": 4,
 "nbformat_minor": 0
}
