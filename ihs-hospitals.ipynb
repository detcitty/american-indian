{
 "cells": [
  {
   "cell_type": "markdown",
   "metadata": {},
   "source": [
    "# IHS Hospitals in the US"
   ]
  },
  {
   "cell_type": "code",
   "execution_count": 11,
   "metadata": {
    "collapsed": true
   },
   "outputs": [],
   "source": [
    "file1 = open('IHS_Health_Facilities.csv', 'r+')"
   ]
  },
  {
   "cell_type": "markdown",
   "metadata": {},
   "source": [
    "Import the necessary Python packages"
   ]
  },
  {
   "cell_type": "code",
   "execution_count": 12,
   "metadata": {
    "collapsed": false
   },
   "outputs": [],
   "source": [
    "import pandas as pd\n",
    "import numpy as np\n",
    "import us\n",
    "import matplotlib.pyplot as plt\n",
    "import plotly.plotly as py\n",
    "\n"
   ]
  },
  {
   "cell_type": "code",
   "execution_count": 13,
   "metadata": {
    "collapsed": true
   },
   "outputs": [],
   "source": [
    "ihs_info = pd.read_csv('IHS_Health_Facilities.csv')"
   ]
  },
  {
   "cell_type": "code",
   "execution_count": 14,
   "metadata": {
    "collapsed": false
   },
   "outputs": [
    {
     "name": "stdout",
     "output_type": "stream",
     "text": [
      "['Affiliation', 'Facility Name', 'Address', 'City', 'State', 'Zip Code', 'Phone', 'Facility Type', 'Behavioral Health', 'Dental', 'Pharmacy', 'Website']\n"
     ]
    }
   ],
   "source": [
    "column_names = list(ihs_info.columns.values)\n",
    "print column_names\n"
   ]
  },
  {
   "cell_type": "markdown",
   "metadata": {},
   "source": [
    "Find the unique hospital affiliations"
   ]
  },
  {
   "cell_type": "code",
   "execution_count": 15,
   "metadata": {
    "collapsed": false
   },
   "outputs": [
    {
     "name": "stdout",
     "output_type": "stream",
     "text": [
      "['IHS' 'Title 1 (Tribal)' 'Title 5 (638)' 'Urban' 'NON-IHS' 'Private NP'\n",
      " 'Contract Inpatient' nan 'Tribal']\n"
     ]
    }
   ],
   "source": [
    "affiliation = ihs_info['Affiliation']\n",
    "unique = affiliation.unique()\n",
    "print affiliation.unique()\n"
   ]
  },
  {
   "cell_type": "code",
   "execution_count": 16,
   "metadata": {
    "collapsed": false
   },
   "outputs": [
    {
     "name": "stdout",
     "output_type": "stream",
     "text": [
      "['IHS', 'Title 1 (Tribal)', 'Title 5 (638)', 'Urban', 'NON-IHS', 'Private NP', 'Contract Inpatient', nan, 'Tribal']\n"
     ]
    }
   ],
   "source": [
    "types_of_hosptials = list(unique)\n",
    "print types_of_hosptials"
   ]
  },
  {
   "cell_type": "code",
   "execution_count": 17,
   "metadata": {
    "collapsed": false
   },
   "outputs": [
    {
     "name": "stdout",
     "output_type": "stream",
     "text": [
      "['SD' 'ND' 'IA' 'NE' 'NM' 'CO' 'TX' 'MN' 'MI' 'MT' 'WI' 'OK' 'AZ' 'CA' 'NV'\n",
      " 'UT' 'WA' 'ID' 'KS' 'WY' 'NY' 'ME' 'MA' 'NC' 'MS' 'LA' 'AL' 'FL' 'CT' 'AK'\n",
      " 'OR' 'SC' 'RI' 'IL' 'MD']\n"
     ]
    }
   ],
   "source": [
    "states = ihs_info['State'].unique()\n",
    "print states"
   ]
  },
  {
   "cell_type": "markdown",
   "metadata": {},
   "source": [
    "### These are the states that have at least 1 IHS facility"
   ]
  },
  {
   "cell_type": "code",
   "execution_count": 18,
   "metadata": {
    "collapsed": false
   },
   "outputs": [
    {
     "name": "stdout",
     "output_type": "stream",
     "text": [
      "South Dakota\n",
      "North Dakota\n",
      "Iowa\n",
      "Nebraska\n",
      "New Mexico\n",
      "Colorado\n",
      "Texas\n",
      "Minnesota\n",
      "Michigan\n",
      "Montana\n",
      "Wisconsin\n",
      "Oklahoma\n",
      "Arizona\n",
      "California\n",
      "Nevada\n",
      "Utah\n",
      "Washington\n",
      "Idaho\n",
      "Kansas\n",
      "Wyoming\n",
      "New York\n",
      "Maine\n",
      "Massachusetts\n",
      "North Carolina\n",
      "Mississippi\n",
      "Louisiana\n",
      "Alabama\n",
      "Florida\n",
      "Connecticut\n",
      "Alaska\n",
      "Oregon\n",
      "South Carolina\n",
      "Rhode Island\n",
      "Illinois\n",
      "Maryland\n"
     ]
    }
   ],
   "source": [
    "ihs_states = []\n",
    "for i, element in enumerate(states):\n",
    "    name = us.states.lookup(element)\n",
    "    ihs_states.append(name)\n",
    "    print name\n",
    "    \n"
   ]
  },
  {
   "cell_type": "code",
   "execution_count": 19,
   "metadata": {
    "collapsed": false
   },
   "outputs": [],
   "source": [
    "mod_states = list(us.states.STATES)\n",
    "\n",
    "for elem in ihs_states:\n",
    "    #print elem\n",
    "    if elem in mod_states:\n",
    "        mod_states.remove(elem)"
   ]
  },
  {
   "cell_type": "code",
   "execution_count": 32,
   "metadata": {
    "collapsed": false
   },
   "outputs": [
    {
     "name": "stdout",
     "output_type": "stream",
     "text": [
      "Counter({'AK': 241, 'CA': 86, 'AZ': 63, 'OK': 53, 'WA': 46, 'NM': 41, 'MN': 31, 'MT': 31, 'SD': 29, 'NV': 26, 'WI': 24, 'MI': 23, 'NC': 14, 'OR': 14, 'ND': 12, 'NY': 10, 'UT': 9, 'MS': 9, 'NE': 6, 'ID': 6, 'ME': 6, 'KS': 6, 'FL': 5, 'TX': 4, 'LA': 4, 'CO': 4, 'WY': 3, 'MA': 3, 'AL': 2, 'IA': 2, 'CT': 2, 'RI': 2, 'IL': 1, 'MD': 1, 'SC': 1})\n"
     ]
    }
   ],
   "source": [
    "from collections import Counter\n",
    "\n",
    "hospital_map = {}\n",
    "\n",
    "hospitals = ihs_info['State']\n",
    "num_hos = hospitals.values\n",
    "values = Counter(num_hos)\n",
    "\n",
    "print values"
   ]
  },
  {
   "cell_type": "markdown",
   "metadata": {},
   "source": [
    "### These are the states that do not have an IHS facility "
   ]
  },
  {
   "cell_type": "code",
   "execution_count": 21,
   "metadata": {
    "collapsed": false
   },
   "outputs": [
    {
     "name": "stdout",
     "output_type": "stream",
     "text": [
      "Arkansas\n",
      "Delaware\n",
      "District of Columbia\n",
      "Georgia\n",
      "Hawaii\n",
      "Indiana\n",
      "Kentucky\n",
      "Missouri\n",
      "New Hampshire\n",
      "New Jersey\n",
      "Ohio\n",
      "Pennsylvania\n",
      "Tennessee\n",
      "Vermont\n",
      "Virginia\n",
      "West Virginia\n"
     ]
    }
   ],
   "source": [
    "for e in mod_states:\n",
    "    print e"
   ]
  },
  {
   "cell_type": "code",
   "execution_count": 34,
   "metadata": {
    "collapsed": false
   },
   "outputs": [
    {
     "name": "stdout",
     "output_type": "stream",
     "text": [
      "High five! You successfuly sent some data to your account on plotly. View your plot in your browser at https://plot.ly/~detcitty/0 or inside your plot.ly account where it is named 'd3-cloropleth-map'\n"
     ]
    },
    {
     "data": {
      "text/html": [
       "<iframe id=\"igraph\" scrolling=\"no\" style=\"border:none;\" seamless=\"seamless\" src=\"https://plot.ly/~detcitty/0.embed\" height=\"525px\" width=\"100%\"></iframe>"
      ],
      "text/plain": [
       "<plotly.tools.PlotlyDisplay object>"
      ]
     },
     "execution_count": 34,
     "metadata": {},
     "output_type": "execute_result"
    }
   ],
   "source": [
    "scl = [[0.0, 'rgb(242,240,247)'],[0.2, 'rgb(218,218,235)'],[0.4, 'rgb(188,189,220)'],\\\n",
    "            [0.6, 'rgb(158,154,200)'],[0.8, 'rgb(117,107,177)'],[1.0, 'rgb(84,39,143)']]\n",
    "\n",
    "ihs_info['text'] = ihs_info['State']\n",
    "\n",
    "data = [ dict(\n",
    "        type='choropleth',\n",
    "        colorscale = scl,\n",
    "        autocolorscale = False,\n",
    "        locations = ihs_info['State'],\n",
    "        z = ihs_info['Zip Code'].astype(float),\n",
    "        locationmode = 'USA-states',\n",
    "        text = values,\n",
    "        marker = dict(\n",
    "            line = dict (\n",
    "                color = 'rgb(255,255,255)',\n",
    "                width = 2\n",
    "            ) ),\n",
    "        colorbar = dict(\n",
    "            title = \"Number of Hospitals\")\n",
    "        ) ]\n",
    "\n",
    "layout = dict(\n",
    "        title = 'The Number of IHS Facilities in the US)',\n",
    "        geo = dict(\n",
    "            scope='usa',\n",
    "            projection=dict( type='albers usa' ),\n",
    "            showlakes = True,\n",
    "            lakecolor = 'rgb(255, 255, 255)'),\n",
    "             )\n",
    "    \n",
    "fig = dict( data=data, layout=layout )\n",
    "py.iplot( fig, filename='d3-cloropleth-map' )"
   ]
  },
  {
   "cell_type": "code",
   "execution_count": null,
   "metadata": {
    "collapsed": true
   },
   "outputs": [],
   "source": []
  }
 ],
 "metadata": {
  "kernelspec": {
   "display_name": "Python 2",
   "language": "python",
   "name": "python2"
  },
  "language_info": {
   "codemirror_mode": {
    "name": "ipython",
    "version": 2
   },
   "file_extension": ".py",
   "mimetype": "text/x-python",
   "name": "python",
   "nbconvert_exporter": "python",
   "pygments_lexer": "ipython2",
   "version": "2.7.11"
  }
 },
 "nbformat": 4,
 "nbformat_minor": 0
}
